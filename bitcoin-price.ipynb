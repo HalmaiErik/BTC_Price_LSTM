{
 "cells": [
  {
   "cell_type": "markdown",
   "metadata": {},
   "source": [
    "# Bitcoin price prediction"
   ]
  },
  {
   "cell_type": "markdown",
   "metadata": {},
   "source": [
    "## Problem description\n",
    "The problem presented in this notebook is the prediction of the price of Bitcoin. The dataset used in this notebook can be found online via: https://www.quandl.com/data/BCHARTS/KRAKENUSD-Bitcoin-Markets-krakenUSD .\n",
    "\n",
    "## Implementation\n",
    "This notebook tries to solve the problem using a Reccurent Neural Network (RNNs), and, more specifically, Long Short Term Memory networks (LSTMs).\n",
    "### RNNs\n",
    "RNNs make use of sequential information, its output  being dependent on the previous computations. A way to think about them is that they have a \"memory\" which captures information about what has been calculated so far. The problem with RNNs is that the amount of past information it can hold is limited. In the case of Bitcoin prices, it would be useful to have a large amount of past prices. This is where LSTMs become useful.\n",
    "### LSTMs\n",
    "LSTMs or Long Short Memory Networks are a special kind of RNN, capable of learning long-term dependencies. They are explicitly designed to avoid the long-term dependency problem that the RNNs have."
   ]
  },
  {
   "cell_type": "markdown",
   "metadata": {},
   "source": [
    "## Imports"
   ]
  },
  {
   "cell_type": "code",
   "execution_count": 1,
   "metadata": {},
   "outputs": [],
   "source": [
    "import pandas as pd\n",
    "import matplotlib.pyplot as plt\n",
    "import numpy as np\n",
    "from sklearn.preprocessing import MinMaxScaler\n",
    "from tensorflow.keras.models import Sequential\n",
    "from tensorflow.keras.layers import Dense, LSTM, Dropout"
   ]
  },
  {
   "cell_type": "markdown",
   "metadata": {},
   "source": [
    "## Data fetching & statistics"
   ]
  },
  {
   "cell_type": "code",
   "execution_count": 2,
   "metadata": {},
   "outputs": [
    {
     "name": "stdout",
     "output_type": "stream",
     "text": [
      "<class 'pandas.core.frame.DataFrame'>\n",
      "RangeIndex: 2689 entries, 2688 to 0\n",
      "Data columns (total 8 columns):\n",
      " #   Column             Non-Null Count  Dtype  \n",
      "---  ------             --------------  -----  \n",
      " 0   Date               2689 non-null   object \n",
      " 1   Open               2689 non-null   float64\n",
      " 2   High               2689 non-null   float64\n",
      " 3   Low                2689 non-null   float64\n",
      " 4   Close              2689 non-null   float64\n",
      " 5   Volume (BTC)       2689 non-null   float64\n",
      " 6   Volume (Currency)  2689 non-null   float64\n",
      " 7   Weighted Price     2689 non-null   float64\n",
      "dtypes: float64(7), object(1)\n",
      "memory usage: 168.2+ KB\n"
     ]
    }
   ],
   "source": [
    "dataframe = pd.read_csv(filepath_or_buffer = \"BCHARTS-KRAKENUSD.csv\")\n",
    "dataframe = dataframe.iloc[::-1]\n",
    "\n",
    "dataframe.info()"
   ]
  },
  {
   "cell_type": "code",
   "execution_count": 3,
   "metadata": {},
   "outputs": [
    {
     "data": {
      "text/html": [
       "<div>\n",
       "<style scoped>\n",
       "    .dataframe tbody tr th:only-of-type {\n",
       "        vertical-align: middle;\n",
       "    }\n",
       "\n",
       "    .dataframe tbody tr th {\n",
       "        vertical-align: top;\n",
       "    }\n",
       "\n",
       "    .dataframe thead th {\n",
       "        text-align: right;\n",
       "    }\n",
       "</style>\n",
       "<table border=\"1\" class=\"dataframe\">\n",
       "  <thead>\n",
       "    <tr style=\"text-align: right;\">\n",
       "      <th></th>\n",
       "      <th>Open</th>\n",
       "      <th>High</th>\n",
       "      <th>Low</th>\n",
       "      <th>Close</th>\n",
       "      <th>Volume (BTC)</th>\n",
       "      <th>Volume (Currency)</th>\n",
       "      <th>Weighted Price</th>\n",
       "    </tr>\n",
       "  </thead>\n",
       "  <tbody>\n",
       "    <tr>\n",
       "      <th>count</th>\n",
       "      <td>2689.000000</td>\n",
       "      <td>2689.000000</td>\n",
       "      <td>2689.000000</td>\n",
       "      <td>2689.000000</td>\n",
       "      <td>2689.000000</td>\n",
       "      <td>2.689000e+03</td>\n",
       "      <td>2689.000000</td>\n",
       "    </tr>\n",
       "    <tr>\n",
       "      <th>mean</th>\n",
       "      <td>6763.144698</td>\n",
       "      <td>6976.471788</td>\n",
       "      <td>6517.329513</td>\n",
       "      <td>6772.348286</td>\n",
       "      <td>3780.178657</td>\n",
       "      <td>4.195755e+07</td>\n",
       "      <td>6755.894797</td>\n",
       "    </tr>\n",
       "    <tr>\n",
       "      <th>std</th>\n",
       "      <td>11086.022617</td>\n",
       "      <td>11451.426148</td>\n",
       "      <td>10634.910731</td>\n",
       "      <td>11091.484565</td>\n",
       "      <td>4374.233252</td>\n",
       "      <td>8.691776e+07</td>\n",
       "      <td>11068.481727</td>\n",
       "    </tr>\n",
       "    <tr>\n",
       "      <th>min</th>\n",
       "      <td>0.000000</td>\n",
       "      <td>0.000000</td>\n",
       "      <td>0.000000</td>\n",
       "      <td>0.000000</td>\n",
       "      <td>0.000000</td>\n",
       "      <td>0.000000e+00</td>\n",
       "      <td>0.000000</td>\n",
       "    </tr>\n",
       "    <tr>\n",
       "      <th>25%</th>\n",
       "      <td>479.997990</td>\n",
       "      <td>500.000000</td>\n",
       "      <td>465.001430</td>\n",
       "      <td>475.006510</td>\n",
       "      <td>86.532707</td>\n",
       "      <td>2.753809e+04</td>\n",
       "      <td>477.180242</td>\n",
       "    </tr>\n",
       "    <tr>\n",
       "      <th>50%</th>\n",
       "      <td>3560.100000</td>\n",
       "      <td>3632.200000</td>\n",
       "      <td>3468.700000</td>\n",
       "      <td>3562.300000</td>\n",
       "      <td>2717.600653</td>\n",
       "      <td>1.356895e+07</td>\n",
       "      <td>3551.134905</td>\n",
       "    </tr>\n",
       "    <tr>\n",
       "      <th>75%</th>\n",
       "      <td>8712.800000</td>\n",
       "      <td>8933.700000</td>\n",
       "      <td>8421.000000</td>\n",
       "      <td>8716.500000</td>\n",
       "      <td>5630.447920</td>\n",
       "      <td>4.503784e+07</td>\n",
       "      <td>8665.858389</td>\n",
       "    </tr>\n",
       "    <tr>\n",
       "      <th>max</th>\n",
       "      <td>63581.000000</td>\n",
       "      <td>64900.000000</td>\n",
       "      <td>62050.000000</td>\n",
       "      <td>63587.200000</td>\n",
       "      <td>45110.873425</td>\n",
       "      <td>1.237786e+09</td>\n",
       "      <td>63326.470550</td>\n",
       "    </tr>\n",
       "  </tbody>\n",
       "</table>\n",
       "</div>"
      ],
      "text/plain": [
       "               Open          High           Low         Close  Volume (BTC)  \\\n",
       "count   2689.000000   2689.000000   2689.000000   2689.000000   2689.000000   \n",
       "mean    6763.144698   6976.471788   6517.329513   6772.348286   3780.178657   \n",
       "std    11086.022617  11451.426148  10634.910731  11091.484565   4374.233252   \n",
       "min        0.000000      0.000000      0.000000      0.000000      0.000000   \n",
       "25%      479.997990    500.000000    465.001430    475.006510     86.532707   \n",
       "50%     3560.100000   3632.200000   3468.700000   3562.300000   2717.600653   \n",
       "75%     8712.800000   8933.700000   8421.000000   8716.500000   5630.447920   \n",
       "max    63581.000000  64900.000000  62050.000000  63587.200000  45110.873425   \n",
       "\n",
       "       Volume (Currency)  Weighted Price  \n",
       "count       2.689000e+03     2689.000000  \n",
       "mean        4.195755e+07     6755.894797  \n",
       "std         8.691776e+07    11068.481727  \n",
       "min         0.000000e+00        0.000000  \n",
       "25%         2.753809e+04      477.180242  \n",
       "50%         1.356895e+07     3551.134905  \n",
       "75%         4.503784e+07     8665.858389  \n",
       "max         1.237786e+09    63326.470550  "
      ]
     },
     "execution_count": 3,
     "metadata": {},
     "output_type": "execute_result"
    }
   ],
   "source": [
    "dataframe.describe()"
   ]
  },
  {
   "cell_type": "code",
   "execution_count": 4,
   "metadata": {},
   "outputs": [
    {
     "data": {
      "text/html": [
       "<div>\n",
       "<style scoped>\n",
       "    .dataframe tbody tr th:only-of-type {\n",
       "        vertical-align: middle;\n",
       "    }\n",
       "\n",
       "    .dataframe tbody tr th {\n",
       "        vertical-align: top;\n",
       "    }\n",
       "\n",
       "    .dataframe thead th {\n",
       "        text-align: right;\n",
       "    }\n",
       "</style>\n",
       "<table border=\"1\" class=\"dataframe\">\n",
       "  <thead>\n",
       "    <tr style=\"text-align: right;\">\n",
       "      <th></th>\n",
       "      <th>Date</th>\n",
       "      <th>Open</th>\n",
       "      <th>High</th>\n",
       "      <th>Low</th>\n",
       "      <th>Close</th>\n",
       "      <th>Volume (BTC)</th>\n",
       "      <th>Volume (Currency)</th>\n",
       "      <th>Weighted Price</th>\n",
       "    </tr>\n",
       "  </thead>\n",
       "  <tbody>\n",
       "    <tr>\n",
       "      <th>4</th>\n",
       "      <td>2021-05-23</td>\n",
       "      <td>37474.8</td>\n",
       "      <td>38269.7</td>\n",
       "      <td>31078.7</td>\n",
       "      <td>34718.8</td>\n",
       "      <td>14832.738515</td>\n",
       "      <td>5.050181e+08</td>\n",
       "      <td>34047.528311</td>\n",
       "    </tr>\n",
       "    <tr>\n",
       "      <th>3</th>\n",
       "      <td>2021-05-24</td>\n",
       "      <td>34718.8</td>\n",
       "      <td>39989.9</td>\n",
       "      <td>34420.8</td>\n",
       "      <td>38833.8</td>\n",
       "      <td>11058.707601</td>\n",
       "      <td>4.155683e+08</td>\n",
       "      <td>37578.380688</td>\n",
       "    </tr>\n",
       "    <tr>\n",
       "      <th>2</th>\n",
       "      <td>2021-05-25</td>\n",
       "      <td>38843.0</td>\n",
       "      <td>39841.8</td>\n",
       "      <td>36500.0</td>\n",
       "      <td>38388.1</td>\n",
       "      <td>9236.125577</td>\n",
       "      <td>3.505080e+08</td>\n",
       "      <td>37949.674385</td>\n",
       "    </tr>\n",
       "    <tr>\n",
       "      <th>1</th>\n",
       "      <td>2021-05-26</td>\n",
       "      <td>38373.3</td>\n",
       "      <td>40893.6</td>\n",
       "      <td>37828.7</td>\n",
       "      <td>39283.9</td>\n",
       "      <td>9233.565257</td>\n",
       "      <td>3.624884e+08</td>\n",
       "      <td>39257.680017</td>\n",
       "    </tr>\n",
       "    <tr>\n",
       "      <th>0</th>\n",
       "      <td>2021-05-27</td>\n",
       "      <td>39290.0</td>\n",
       "      <td>40398.0</td>\n",
       "      <td>37230.0</td>\n",
       "      <td>38603.5</td>\n",
       "      <td>5757.923466</td>\n",
       "      <td>2.233911e+08</td>\n",
       "      <td>38797.164686</td>\n",
       "    </tr>\n",
       "  </tbody>\n",
       "</table>\n",
       "</div>"
      ],
      "text/plain": [
       "         Date     Open     High      Low    Close  Volume (BTC)  \\\n",
       "4  2021-05-23  37474.8  38269.7  31078.7  34718.8  14832.738515   \n",
       "3  2021-05-24  34718.8  39989.9  34420.8  38833.8  11058.707601   \n",
       "2  2021-05-25  38843.0  39841.8  36500.0  38388.1   9236.125577   \n",
       "1  2021-05-26  38373.3  40893.6  37828.7  39283.9   9233.565257   \n",
       "0  2021-05-27  39290.0  40398.0  37230.0  38603.5   5757.923466   \n",
       "\n",
       "   Volume (Currency)  Weighted Price  \n",
       "4       5.050181e+08    34047.528311  \n",
       "3       4.155683e+08    37578.380688  \n",
       "2       3.505080e+08    37949.674385  \n",
       "1       3.624884e+08    39257.680017  \n",
       "0       2.233911e+08    38797.164686  "
      ]
     },
     "execution_count": 4,
     "metadata": {},
     "output_type": "execute_result"
    }
   ],
   "source": [
    "dataframe.tail()"
   ]
  },
  {
   "cell_type": "markdown",
   "metadata": {},
   "source": [
    "## Data modification"
   ]
  },
  {
   "cell_type": "markdown",
   "metadata": {},
   "source": [
    "What I am trying to predict is the Weighted Price column. To make it easier, I will extract the column into a separate DataFrame object and I will set its index column to the Date column which will be in datetime format."
   ]
  },
  {
   "cell_type": "code",
   "execution_count": 5,
   "metadata": {},
   "outputs": [
    {
     "name": "stdout",
     "output_type": "stream",
     "text": [
      "DatetimeIndex(['2014-01-07', '2014-01-08', '2014-01-09', '2014-01-10',\n",
      "               '2014-01-11', '2014-01-12', '2014-01-13', '2014-01-14',\n",
      "               '2014-01-15', '2014-01-16',\n",
      "               ...\n",
      "               '2021-05-18', '2021-05-19', '2021-05-20', '2021-05-21',\n",
      "               '2021-05-22', '2021-05-23', '2021-05-24', '2021-05-25',\n",
      "               '2021-05-26', '2021-05-27'],\n",
      "              dtype='datetime64[ns]', name='Date', length=2689, freq=None)\n",
      "\n",
      "            Weighted Price\n",
      "Date                      \n",
      "2014-01-07      841.835522\n",
      "2014-01-08      839.156269\n",
      "2014-01-09      831.572913\n",
      "2014-01-10      844.938794\n",
      "2014-01-11      890.671709\n",
      "...                    ...\n",
      "2021-05-23    34047.528311\n",
      "2021-05-24    37578.380688\n",
      "2021-05-25    37949.674385\n",
      "2021-05-26    39257.680017\n",
      "2021-05-27    38797.164686\n",
      "\n",
      "[2689 rows x 1 columns]\n"
     ]
    }
   ],
   "source": [
    "dataframe_price = pd.DataFrame(dataframe['Weighted Price'])\n",
    "dataframe_price.index = pd.to_datetime(dataframe['Date'])\n",
    "print(dataframe_price.index)\n",
    "print()\n",
    "print(dataframe_price)"
   ]
  },
  {
   "cell_type": "code",
   "execution_count": 6,
   "metadata": {},
   "outputs": [
    {
     "data": {
      "text/html": [
       "<div>\n",
       "<style scoped>\n",
       "    .dataframe tbody tr th:only-of-type {\n",
       "        vertical-align: middle;\n",
       "    }\n",
       "\n",
       "    .dataframe tbody tr th {\n",
       "        vertical-align: top;\n",
       "    }\n",
       "\n",
       "    .dataframe thead th {\n",
       "        text-align: right;\n",
       "    }\n",
       "</style>\n",
       "<table border=\"1\" class=\"dataframe\">\n",
       "  <thead>\n",
       "    <tr style=\"text-align: right;\">\n",
       "      <th></th>\n",
       "      <th>Weighted Price</th>\n",
       "    </tr>\n",
       "  </thead>\n",
       "  <tbody>\n",
       "    <tr>\n",
       "      <th>count</th>\n",
       "      <td>2689.000000</td>\n",
       "    </tr>\n",
       "    <tr>\n",
       "      <th>mean</th>\n",
       "      <td>6755.894797</td>\n",
       "    </tr>\n",
       "    <tr>\n",
       "      <th>std</th>\n",
       "      <td>11068.481727</td>\n",
       "    </tr>\n",
       "    <tr>\n",
       "      <th>min</th>\n",
       "      <td>0.000000</td>\n",
       "    </tr>\n",
       "    <tr>\n",
       "      <th>25%</th>\n",
       "      <td>477.180242</td>\n",
       "    </tr>\n",
       "    <tr>\n",
       "      <th>50%</th>\n",
       "      <td>3551.134905</td>\n",
       "    </tr>\n",
       "    <tr>\n",
       "      <th>75%</th>\n",
       "      <td>8665.858389</td>\n",
       "    </tr>\n",
       "    <tr>\n",
       "      <th>max</th>\n",
       "      <td>63326.470550</td>\n",
       "    </tr>\n",
       "  </tbody>\n",
       "</table>\n",
       "</div>"
      ],
      "text/plain": [
       "       Weighted Price\n",
       "count     2689.000000\n",
       "mean      6755.894797\n",
       "std      11068.481727\n",
       "min          0.000000\n",
       "25%        477.180242\n",
       "50%       3551.134905\n",
       "75%       8665.858389\n",
       "max      63326.470550"
      ]
     },
     "execution_count": 6,
     "metadata": {},
     "output_type": "execute_result"
    }
   ],
   "source": [
    "dataframe_price.describe()"
   ]
  },
  {
   "cell_type": "markdown",
   "metadata": {},
   "source": [
    "As it can be seen in the min row, there are some dates with 0 Weighted Price. To fix this, we will replace replace every 0 value with the previous non-zero value."
   ]
  },
  {
   "cell_type": "code",
   "execution_count": 7,
   "metadata": {},
   "outputs": [
    {
     "data": {
      "text/html": [
       "<div>\n",
       "<style scoped>\n",
       "    .dataframe tbody tr th:only-of-type {\n",
       "        vertical-align: middle;\n",
       "    }\n",
       "\n",
       "    .dataframe tbody tr th {\n",
       "        vertical-align: top;\n",
       "    }\n",
       "\n",
       "    .dataframe thead th {\n",
       "        text-align: right;\n",
       "    }\n",
       "</style>\n",
       "<table border=\"1\" class=\"dataframe\">\n",
       "  <thead>\n",
       "    <tr style=\"text-align: right;\">\n",
       "      <th></th>\n",
       "      <th>Weighted Price</th>\n",
       "    </tr>\n",
       "  </thead>\n",
       "  <tbody>\n",
       "    <tr>\n",
       "      <th>count</th>\n",
       "      <td>2689.000000</td>\n",
       "    </tr>\n",
       "    <tr>\n",
       "      <th>mean</th>\n",
       "      <td>6765.569675</td>\n",
       "    </tr>\n",
       "    <tr>\n",
       "      <th>std</th>\n",
       "      <td>11063.393706</td>\n",
       "    </tr>\n",
       "    <tr>\n",
       "      <th>min</th>\n",
       "      <td>199.628389</td>\n",
       "    </tr>\n",
       "    <tr>\n",
       "      <th>25%</th>\n",
       "      <td>488.077565</td>\n",
       "    </tr>\n",
       "    <tr>\n",
       "      <th>50%</th>\n",
       "      <td>3551.464453</td>\n",
       "    </tr>\n",
       "    <tr>\n",
       "      <th>75%</th>\n",
       "      <td>8665.858389</td>\n",
       "    </tr>\n",
       "    <tr>\n",
       "      <th>max</th>\n",
       "      <td>63326.470550</td>\n",
       "    </tr>\n",
       "  </tbody>\n",
       "</table>\n",
       "</div>"
      ],
      "text/plain": [
       "       Weighted Price\n",
       "count     2689.000000\n",
       "mean      6765.569675\n",
       "std      11063.393706\n",
       "min        199.628389\n",
       "25%        488.077565\n",
       "50%       3551.464453\n",
       "75%       8665.858389\n",
       "max      63326.470550"
      ]
     },
     "execution_count": 7,
     "metadata": {},
     "output_type": "execute_result"
    }
   ],
   "source": [
    "dataframe_price.replace(to_replace = 0, method = 'ffill', inplace = True)\n",
    "dataframe_price.describe()"
   ]
  },
  {
   "cell_type": "markdown",
   "metadata": {},
   "source": [
    "## Data visualization"
   ]
  },
  {
   "cell_type": "code",
   "execution_count": 8,
   "metadata": {},
   "outputs": [
    {
     "data": {
      "text/plain": [
       "<AxesSubplot:xlabel='Date'>"
      ]
     },
     "execution_count": 8,
     "metadata": {},
     "output_type": "execute_result"
    },
    {
     "data": {
      "image/png": "[encoded data removed]",
      "text/plain": [
       "<Figure size 1080x1080 with 1 Axes>"
      ]
     },
     "metadata": {
      "needs_background": "light"
     },
     "output_type": "display_data"
    }
   ],
   "source": [
    "dataframe_price.plot(figsize = (15, 15))"
   ]
  },
  {
   "cell_type": "markdown",
   "metadata": {},
   "source": [
    "## Data splitting"
   ]
  },
  {
   "cell_type": "code",
   "execution_count": 9,
   "metadata": {},
   "outputs": [
    {
     "data": {
      "text/plain": [
       "array([[  841.8355223 ],\n",
       "       [  839.15626937],\n",
       "       [  831.57291257],\n",
       "       ...,\n",
       "       [22738.61136594],\n",
       "       [22855.91137875],\n",
       "       [23557.57947433]])"
      ]
     },
     "execution_count": 9,
     "metadata": {},
     "output_type": "execute_result"
    }
   ],
   "source": [
    "test_size = 150\n",
    "\n",
    "df_train = dataframe_price[: len(dataframe_price) - test_size]\n",
    "trainset = df_train.values\n",
    "\n",
    "df_test = dataframe_price[len(dataframe_price) - test_size :]\n",
    "testset = df_test.values\n",
    "pred_input = testset\n",
    "\n",
    "trainset"
   ]
  },
  {
   "cell_type": "markdown",
   "metadata": {},
   "source": [
    "## Data scaling"
   ]
  },
  {
   "cell_type": "code",
   "execution_count": 10,
   "metadata": {},
   "outputs": [
    {
     "name": "stdout",
     "output_type": "stream",
     "text": [
      "[[0.02749416]\n",
      " [0.02737945]\n",
      " [0.02705479]\n",
      " ...\n",
      " [0.96493836]\n",
      " [0.9699602 ]\n",
      " [1.        ]]\n"
     ]
    }
   ],
   "source": [
    "scaler = MinMaxScaler()\n",
    "\n",
    "trainset = scaler.fit_transform(trainset)\n",
    "pred_input = scaler.transform(pred_input)\n",
    "\n",
    "print(trainset)\n",
    "\n",
    "X_train = trainset[0 : len(trainset) - 1]\n",
    "y_train = trainset[1 : len(trainset)]"
   ]
  },
  {
   "cell_type": "markdown",
   "metadata": {},
   "source": [
    "## Reshape for keras"
   ]
  },
  {
   "cell_type": "code",
   "execution_count": 15,
   "metadata": {},
   "outputs": [],
   "source": [
    "X_train = np.reshape(X_train, (len(X_train), 1, 1))\n",
    "pred_input = np.reshape(pred_input, (len(pred_input), 1, 1))"
   ]
  },
  {
   "cell_type": "markdown",
   "metadata": {},
   "source": [
    "## Model fitting"
   ]
  },
  {
   "cell_type": "code",
   "execution_count": 12,
   "metadata": {},
   "outputs": [
    {
     "name": "stdout",
     "output_type": "stream",
     "text": [
      "Epoch 1/100\n",
      "508/508 [==============================] - 1s 1ms/step - loss: 0.0317\n",
      "Epoch 2/100\n",
      "508/508 [==============================] - 1s 1ms/step - loss: 0.0200\n",
      "Epoch 3/100\n",
      "508/508 [==============================] - 1s 1ms/step - loss: 0.0109\n",
      "Epoch 4/100\n",
      "508/508 [==============================] - 1s 1ms/step - loss: 0.0043\n",
      "Epoch 5/100\n",
      "508/508 [==============================] - 1s 1ms/step - loss: 0.0011\n",
      "Epoch 6/100\n",
      "508/508 [==============================] - 1s 1ms/step - loss: 2.5946e-04\n",
      "Epoch 7/100\n",
      "508/508 [==============================] - 1s 1ms/step - loss: 1.5393e-04\n",
      "Epoch 8/100\n",
      "508/508 [==============================] - 1s 1ms/step - loss: 1.4691e-04\n",
      "Epoch 9/100\n",
      "508/508 [==============================] - 1s 1ms/step - loss: 1.4588e-04\n",
      "Epoch 10/100\n",
      "508/508 [==============================] - 1s 1ms/step - loss: 1.4439e-04\n",
      "Epoch 11/100\n",
      "508/508 [==============================] - 1s 1ms/step - loss: 1.4378e-04\n",
      "Epoch 12/100\n",
      "508/508 [==============================] - 1s 1ms/step - loss: 1.4098e-04\n",
      "Epoch 13/100\n",
      "508/508 [==============================] - 1s 1ms/step - loss: 1.4133e-04\n",
      "Epoch 14/100\n",
      "508/508 [==============================] - 1s 1ms/step - loss: 1.3713e-04\n",
      "Epoch 15/100\n",
      "508/508 [==============================] - 1s 1ms/step - loss: 1.3305e-04\n",
      "Epoch 16/100\n",
      "508/508 [==============================] - 1s 1ms/step - loss: 1.3327e-04\n",
      "Epoch 17/100\n",
      "508/508 [==============================] - 1s 1ms/step - loss: 1.3118e-04\n",
      "Epoch 18/100\n",
      "508/508 [==============================] - 1s 1ms/step - loss: 1.3020e-04\n",
      "Epoch 19/100\n",
      "508/508 [==============================] - 1s 1ms/step - loss: 1.2749e-04\n",
      "Epoch 20/100\n",
      "508/508 [==============================] - 1s 1ms/step - loss: 1.2629e-04\n",
      "Epoch 21/100\n",
      "508/508 [==============================] - 1s 1ms/step - loss: 1.2532e-04\n",
      "Epoch 22/100\n",
      "508/508 [==============================] - 1s 1ms/step - loss: 1.2484e-04\n",
      "Epoch 23/100\n",
      "508/508 [==============================] - 1s 1ms/step - loss: 1.2354e-04\n",
      "Epoch 24/100\n",
      "508/508 [==============================] - 1s 1ms/step - loss: 1.2184e-04\n",
      "Epoch 25/100\n",
      "508/508 [==============================] - 1s 2ms/step - loss: 1.2151e-04\n",
      "Epoch 26/100\n",
      "508/508 [==============================] - 1s 2ms/step - loss: 1.2172e-04\n",
      "Epoch 27/100\n",
      "508/508 [==============================] - 1s 1ms/step - loss: 1.2036e-04\n",
      "Epoch 28/100\n",
      "508/508 [==============================] - 1s 1ms/step - loss: 1.1951e-04\n",
      "Epoch 29/100\n",
      "508/508 [==============================] - 1s 1ms/step - loss: 1.2056e-04\n",
      "Epoch 30/100\n",
      "508/508 [==============================] - 1s 2ms/step - loss: 1.1800e-04\n",
      "Epoch 31/100\n",
      "508/508 [==============================] - 1s 1ms/step - loss: 1.2011e-04\n",
      "Epoch 32/100\n",
      "508/508 [==============================] - 1s 2ms/step - loss: 1.1790e-04\n",
      "Epoch 33/100\n",
      "508/508 [==============================] - 1s 1ms/step - loss: 1.1790e-04\n",
      "Epoch 34/100\n",
      "508/508 [==============================] - 1s 1ms/step - loss: 1.1584e-04\n",
      "Epoch 35/100\n",
      "508/508 [==============================] - 1s 1ms/step - loss: 1.1881e-04\n",
      "Epoch 36/100\n",
      "508/508 [==============================] - 1s 1ms/step - loss: 1.1585e-04\n",
      "Epoch 37/100\n",
      "508/508 [==============================] - 1s 1ms/step - loss: 1.1562e-04\n",
      "Epoch 38/100\n",
      "508/508 [==============================] - 1s 1ms/step - loss: 1.1455e-04\n",
      "Epoch 39/100\n",
      "508/508 [==============================] - 1s 1ms/step - loss: 1.1449e-04\n",
      "Epoch 40/100\n",
      "508/508 [==============================] - 1s 1ms/step - loss: 1.1605e-04\n",
      "Epoch 41/100\n",
      "508/508 [==============================] - 1s 1ms/step - loss: 1.1420e-04\n",
      "Epoch 42/100\n",
      "508/508 [==============================] - 1s 1ms/step - loss: 1.1613e-04\n",
      "Epoch 43/100\n",
      "508/508 [==============================] - 1s 1ms/step - loss: 1.1517e-04\n",
      "Epoch 44/100\n",
      "508/508 [==============================] - 1s 2ms/step - loss: 1.1452e-04\n",
      "Epoch 45/100\n",
      "508/508 [==============================] - 1s 1ms/step - loss: 1.1535e-04\n",
      "Epoch 46/100\n",
      "508/508 [==============================] - 1s 1ms/step - loss: 1.1445e-04\n",
      "Epoch 47/100\n",
      "508/508 [==============================] - 1s 1ms/step - loss: 1.1577e-04\n",
      "Epoch 48/100\n",
      "508/508 [==============================] - 1s 1ms/step - loss: 1.1299e-04\n",
      "Epoch 49/100\n",
      "508/508 [==============================] - 1s 1ms/step - loss: 1.1457e-04\n",
      "Epoch 50/100\n",
      "508/508 [==============================] - 1s 1ms/step - loss: 1.1430e-04\n",
      "Epoch 51/100\n",
      "508/508 [==============================] - 1s 1ms/step - loss: 1.1476e-04\n",
      "Epoch 52/100\n",
      "508/508 [==============================] - 1s 1ms/step - loss: 1.1512e-04\n",
      "Epoch 53/100\n",
      "508/508 [==============================] - 1s 1ms/step - loss: 1.1549e-04\n",
      "Epoch 54/100\n",
      "508/508 [==============================] - 1s 1ms/step - loss: 1.1228e-04\n",
      "Epoch 55/100\n",
      "508/508 [==============================] - 1s 1ms/step - loss: 1.1598e-04\n",
      "Epoch 56/100\n",
      "508/508 [==============================] - 1s 1ms/step - loss: 1.1382e-04\n",
      "Epoch 57/100\n",
      "508/508 [==============================] - 1s 1ms/step - loss: 1.1561e-04\n",
      "Epoch 58/100\n",
      "508/508 [==============================] - 1s 1ms/step - loss: 1.1534e-04\n",
      "Epoch 59/100\n",
      "508/508 [==============================] - 1s 1ms/step - loss: 1.1407e-04\n",
      "Epoch 60/100\n",
      "508/508 [==============================] - 1s 1ms/step - loss: 1.1594e-04\n",
      "Epoch 61/100\n",
      "508/508 [==============================] - 1s 1ms/step - loss: 1.1483e-04\n",
      "Epoch 62/100\n",
      "508/508 [==============================] - 1s 1ms/step - loss: 1.1466e-04\n",
      "Epoch 63/100\n",
      "508/508 [==============================] - 1s 1ms/step - loss: 1.1568e-04\n",
      "Epoch 64/100\n",
      "508/508 [==============================] - 1s 1ms/step - loss: 1.1476e-04\n",
      "Epoch 65/100\n",
      "508/508 [==============================] - 1s 1ms/step - loss: 1.1432e-04\n",
      "Epoch 66/100\n",
      "508/508 [==============================] - 1s 1ms/step - loss: 1.1110e-04\n",
      "Epoch 67/100\n",
      "508/508 [==============================] - 1s 1ms/step - loss: 1.1342e-04\n",
      "Epoch 68/100\n",
      "508/508 [==============================] - 1s 1ms/step - loss: 1.1346e-04\n",
      "Epoch 69/100\n",
      "508/508 [==============================] - 1s 1ms/step - loss: 1.1578e-04\n",
      "Epoch 70/100\n",
      "508/508 [==============================] - 1s 1ms/step - loss: 1.1471e-04\n",
      "Epoch 71/100\n",
      "508/508 [==============================] - 1s 1ms/step - loss: 1.1276e-04\n",
      "Epoch 72/100\n",
      "508/508 [==============================] - 1s 1ms/step - loss: 1.1343e-04\n",
      "Epoch 73/100\n",
      "508/508 [==============================] - 1s 1ms/step - loss: 1.1424e-04\n",
      "Epoch 74/100\n",
      "508/508 [==============================] - 1s 1ms/step - loss: 1.1665e-04\n",
      "Epoch 75/100\n",
      "508/508 [==============================] - 1s 1ms/step - loss: 1.1270e-04\n",
      "Epoch 76/100\n",
      "508/508 [==============================] - 1s 1ms/step - loss: 1.1151e-04\n",
      "Epoch 77/100\n",
      "508/508 [==============================] - 1s 1ms/step - loss: 1.1274e-04\n",
      "Epoch 78/100\n",
      "508/508 [==============================] - 1s 1ms/step - loss: 1.1507e-04\n",
      "Epoch 79/100\n",
      "508/508 [==============================] - 1s 1ms/step - loss: 1.1479e-04\n",
      "Epoch 80/100\n",
      "508/508 [==============================] - 1s 1ms/step - loss: 1.1471e-04\n",
      "Epoch 81/100\n",
      "508/508 [==============================] - 1s 1ms/step - loss: 1.1440e-04\n",
      "Epoch 82/100\n",
      "508/508 [==============================] - 1s 1ms/step - loss: 1.1325e-04\n",
      "Epoch 83/100\n",
      "508/508 [==============================] - 1s 1ms/step - loss: 1.1392e-04\n",
      "Epoch 84/100\n",
      "508/508 [==============================] - 1s 1ms/step - loss: 1.1283e-04\n",
      "Epoch 85/100\n",
      "508/508 [==============================] - 1s 1ms/step - loss: 1.1216e-04\n",
      "Epoch 86/100\n",
      "508/508 [==============================] - 1s 1ms/step - loss: 1.1332e-04\n",
      "Epoch 87/100\n",
      "508/508 [==============================] - 1s 1ms/step - loss: 1.1346e-04\n",
      "Epoch 88/100\n",
      "508/508 [==============================] - 1s 1ms/step - loss: 1.1564e-04\n",
      "Epoch 89/100\n",
      "508/508 [==============================] - 1s 1ms/step - loss: 1.1323e-04\n",
      "Epoch 90/100\n",
      "508/508 [==============================] - 1s 2ms/step - loss: 1.1269e-04\n",
      "Epoch 91/100\n",
      "508/508 [==============================] - 1s 1ms/step - loss: 1.1296e-04\n",
      "Epoch 92/100\n",
      "508/508 [==============================] - 1s 1ms/step - loss: 1.1388e-04\n",
      "Epoch 93/100\n",
      "508/508 [==============================] - 1s 1ms/step - loss: 1.1377e-04\n",
      "Epoch 94/100\n",
      "508/508 [==============================] - 1s 1ms/step - loss: 1.1380e-04\n",
      "Epoch 95/100\n"
     ]
    },
    {
     "name": "stdout",
     "output_type": "stream",
     "text": [
      "508/508 [==============================] - 1s 1ms/step - loss: 1.1363e-04\n",
      "Epoch 96/100\n",
      "508/508 [==============================] - 1s 1ms/step - loss: 1.1203e-04\n",
      "Epoch 97/100\n",
      "508/508 [==============================] - 1s 1ms/step - loss: 1.1449e-04\n",
      "Epoch 98/100\n",
      "508/508 [==============================] - 1s 2ms/step - loss: 1.1441e-04\n",
      "Epoch 99/100\n",
      "508/508 [==============================] - 1s 1ms/step - loss: 1.1460e-04\n",
      "Epoch 100/100\n",
      "508/508 [==============================] - 1s 1ms/step - loss: 1.1499e-04\n"
     ]
    },
    {
     "data": {
      "text/plain": [
       "<tensorflow.python.keras.callbacks.History at 0x29ffeac0bb0>"
      ]
     },
     "execution_count": 12,
     "metadata": {},
     "output_type": "execute_result"
    }
   ],
   "source": [
    "model = Sequential()\n",
    "\n",
    "model.add(LSTM(units = 4, activation = 'sigmoid', input_shape = (None, 1)))\n",
    "#model.add(Dropout(0.2))\n",
    "model.add(Dense(units = 1))\n",
    "model.compile(optimizer = 'adam', loss = 'mean_squared_error')\n",
    "\n",
    "model.fit(X_train, y_train, batch_size = 5, epochs = 100)"
   ]
  },
  {
   "cell_type": "markdown",
   "metadata": {},
   "source": [
    "## Prediction"
   ]
  },
  {
   "cell_type": "code",
   "execution_count": 13,
   "metadata": {},
   "outputs": [],
   "source": [
    "predicted_price = model.predict(pred_input)\n",
    "predicted_price = scaler.inverse_transform(predicted_price)"
   ]
  },
  {
   "cell_type": "code",
   "execution_count": 14,
   "metadata": {},
   "outputs": [
    {
     "data": {
      "image/png": "[encoded data removed]",
      "text/plain": [
       "<Figure size 1250x750 with 1 Axes>"
      ]
     },
     "metadata": {},
     "output_type": "display_data"
    }
   ],
   "source": [
    "plt.figure(figsize=(25,15), dpi=50, facecolor='w', edgecolor='k')  \n",
    "plt.plot(testset, color = 'red', label = 'Real Price')\n",
    "plt.plot(predicted_price, color = 'blue', label = 'Predicted Price')\n",
    "plt.title('Bitcoin Price Prediction', fontsize=20)\n",
    "plt.xlabel('Days', fontsize=20)\n",
    "plt.ylabel('Price (USD)', fontsize=20)\n",
    "plt.legend(loc=2, prop={'size': 25})\n",
    "plt.show()"
   ]
  }
 ],
 "metadata": {
  "kernelspec": {
   "display_name": "Python 3",
   "language": "python",
   "name": "python3"
  },
  "language_info": {
   "codemirror_mode": {
    "name": "ipython",
    "version": 3
   },
   "file_extension": ".py",
   "mimetype": "text/x-python",
   "name": "python",
   "nbconvert_exporter": "python",
   "pygments_lexer": "ipython3",
   "version": "3.8.5"
  }
 },
 "nbformat": 4,
 "nbformat_minor": 4
}
